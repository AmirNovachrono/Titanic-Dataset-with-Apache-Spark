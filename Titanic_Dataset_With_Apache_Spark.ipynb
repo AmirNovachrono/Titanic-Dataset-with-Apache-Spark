{
 "cells": [
  {
   "cell_type": "markdown",
   "metadata": {},
   "source": [
    "Import the libraries"
   ]
  },
  {
   "cell_type": "code",
   "execution_count": 1,
   "metadata": {},
   "outputs": [],
   "source": [
    "from pyspark import SparkContext, SparkConf\n",
    "from pyspark.sql import SQLContext, SparkSession\n",
    "from pyspark.sql.types import StructType, StructField, DoubleType, IntegerType, StringType\n",
    "from pyspark.sql.functions import udf\n",
    "from pyspark.sql.functions import col, udf, isnan, when, count\n",
    "from pyspark.sql.types import DoubleType, IntegerType, DateType\n",
    "import pandas as pd\n",
    "import ibmos2spark, os\n",
    "import numpy as np\n",
    "from pyspark.ml.feature import VectorAssembler\n",
    "from pyspark.ml.feature import Normalizer\n",
    "from pyspark.ml.feature import StringIndexer\n",
    "from pyspark.ml.feature import OneHotEncoder\n",
    "from pyspark.ml import Pipeline\n",
    "from pyspark.ml.classification import RandomForestClassifier, LogisticRegression\n",
    "from pyspark.ml.evaluation import BinaryClassificationEvaluator\n",
    "import matplotlib.pyplot as plt\n",
    "import seaborn as sns"
   ]
  },
  {
   "cell_type": "markdown",
   "metadata": {},
   "source": [
    "Establish the Spark Connection"
   ]
  },
  {
   "cell_type": "code",
   "execution_count": 2,
   "metadata": {},
   "outputs": [],
   "source": [
    "sc = SparkContext.getOrCreate(SparkConf().setMaster(\"local[*]\"))\n",
    "\n",
    "spark = SparkSession \\\n",
    "    .builder \\\n",
    "    .getOrCreate()"
   ]
  },
  {
   "cell_type": "markdown",
   "metadata": {},
   "source": [
    "Read the Data from IBM Cloud"
   ]
  },
  {
   "cell_type": "code",
   "execution_count": 3,
   "metadata": {},
   "outputs": [
    {
     "data": {
      "text/plain": [
       "[('PassengerId', 'string'),\n",
       " ('Survived', 'double'),\n",
       " ('Pclass', 'double'),\n",
       " ('Name', 'string'),\n",
       " ('Sex', 'string'),\n",
       " ('Age', 'double'),\n",
       " ('SibSp', 'double'),\n",
       " ('Parch', 'double'),\n",
       " ('Ticket', 'string'),\n",
       " ('Fare', 'double'),\n",
       " ('Cabin', 'string'),\n",
       " ('Embarked', 'string')]"
      ]
     },
     "execution_count": 3,
     "metadata": {},
     "output_type": "execute_result"
    }
   ],
   "source": [
    "@hidden_cell\n",
    "credentials = {\n",
    "    'endpoint': 'https://s3.private.us.cloud-object-storage.appdomain.cloud',\n",
    "    'service_id': 'iam-ServiceId-c8ebc10c-e393-44ec-812e-ddb1c2dc4c68',\n",
    "    'iam_service_endpoint': 'https://iam.cloud.ibm.com/oidc/token',\n",
    "    'api_key': 'DY8albLJOnB-2gBDvjbzAm8vQqpxmAxuXuAK736jeJy6'\n",
    "}\n",
    "\n",
    "configuration_name = 'os_c9080dc422914473bf3adbcfd9d664ed_configs'\n",
    "cos = ibmos2spark.CloudObjectStorage(sc, credentials, configuration_name, 'bluemix_cos')\n",
    "\n",
    "AllData = spark.read\\\n",
    "  .format('org.apache.spark.sql.execution.datasources.csv.CSVFileFormat')\\\n",
    "  .option('header', 'true')\\\n",
    "  .option('format', 'csv')\\\n",
    "  .option('sep', ',')\\\n",
    "  .option('interSchema', 'true')\\\n",
    "  .load(cos.url('titanic.csv', 'default-donotdelete-pr-jqyjd8qpasasds'))\n",
    "\n",
    "#Convert to accurate datatypes\n",
    "AllData = AllData \\\n",
    "    .withColumn('Survived', col('Survived').cast(DoubleType())) \\\n",
    "    .withColumn('Pclass', col('Pclass').cast(DoubleType())) \\\n",
    "    .withColumn('Age', col('Age').cast(DoubleType())) \\\n",
    "    .withColumn('SibSp', col('SibSp').cast(DoubleType())) \\\n",
    "    .withColumn('Parch', col('Parch').cast(DoubleType())) \\\n",
    "    .withColumn('Fare', col('Fare').cast(DoubleType())) \n",
    "\n",
    "#List the datatypes of the columns\n",
    "AllData.dtypes"
   ]
  },
  {
   "cell_type": "markdown",
   "metadata": {},
   "source": [
    "Describe the Data"
   ]
  },
  {
   "cell_type": "code",
   "execution_count": 4,
   "metadata": {},
   "outputs": [
    {
     "name": "stdout",
     "output_type": "stream",
     "text": [
      "+-------+-----------------+-------------------+------------------+--------------------+------+------------------+------------------+-------------------+------------------+-----------------+-----+--------+\n",
      "|summary|      PassengerId|           Survived|            Pclass|                Name|   Sex|               Age|             SibSp|              Parch|            Ticket|             Fare|Cabin|Embarked|\n",
      "+-------+-----------------+-------------------+------------------+--------------------+------+------------------+------------------+-------------------+------------------+-----------------+-----+--------+\n",
      "|  count|              891|                891|               891|                 891|   891|               714|               891|                891|               891|              891|  204|     889|\n",
      "|   mean|            446.0| 0.3838383838383838| 2.308641975308642|                null|  null| 29.69911764705882|0.5230078563411896|0.38159371492704824|260318.54916792738| 32.2042079685746| null|    null|\n",
      "| stddev|257.3538420152301|0.48659245426485753|0.8360712409770491|                null|  null|14.526497332334035|1.1027434322934315| 0.8060572211299488|471609.26868834975|49.69342859718089| null|    null|\n",
      "|    min|                1|                0.0|               1.0|\"Andersson, Mr. A...|female|              0.42|               0.0|                0.0|            110152|              0.0|  A10|       C|\n",
      "|    max|               99|                1.0|               3.0|van Melkebeke, Mr...|  male|              80.0|               8.0|                6.0|         WE/P 5735|         512.3292|    T|       S|\n",
      "+-------+-----------------+-------------------+------------------+--------------------+------+------------------+------------------+-------------------+------------------+-----------------+-----+--------+\n",
      "\n"
     ]
    }
   ],
   "source": [
    "AllData.describe().show()"
   ]
  },
  {
   "cell_type": "markdown",
   "metadata": {},
   "source": [
    "Identify the number of missing values in the Data"
   ]
  },
  {
   "cell_type": "code",
   "execution_count": 5,
   "metadata": {},
   "outputs": [
    {
     "name": "stdout",
     "output_type": "stream",
     "text": [
      "+-----------+--------+------+----+---+---+-----+-----+------+----+-----+--------+\n",
      "|PassengerId|Survived|Pclass|Name|Sex|Age|SibSp|Parch|Ticket|Fare|Cabin|Embarked|\n",
      "+-----------+--------+------+----+---+---+-----+-----+------+----+-----+--------+\n",
      "|          0|       0|     0|   0|  0|177|    0|    0|     0|   0|  687|       2|\n",
      "+-----------+--------+------+----+---+---+-----+-----+------+----+-----+--------+\n",
      "\n",
      "+-----------+--------+------+--------------------+------+-----------------+-----+-----+----------------+-------+-----+--------+\n",
      "|PassengerId|Survived|Pclass|                Name|   Sex|              Age|SibSp|Parch|          Ticket|   Fare|Cabin|Embarked|\n",
      "+-----------+--------+------+--------------------+------+-----------------+-----+-----+----------------+-------+-----+--------+\n",
      "|          1|     0.0|   3.0|Braund, Mr. Owen ...|  male|             22.0|  1.0|  0.0|       A/5 21171|   7.25| null|       S|\n",
      "|          2|     1.0|   1.0|Cumings, Mrs. Joh...|female|             38.0|  1.0|  0.0|        PC 17599|71.2833|  C85|       C|\n",
      "|          3|     1.0|   3.0|Heikkinen, Miss. ...|female|             26.0|  0.0|  0.0|STON/O2. 3101282|  7.925| null|       S|\n",
      "|          4|     1.0|   1.0|Futrelle, Mrs. Ja...|female|             35.0|  1.0|  0.0|          113803|   53.1| C123|       S|\n",
      "|          5|     0.0|   3.0|Allen, Mr. Willia...|  male|             35.0|  0.0|  0.0|          373450|   8.05| null|       S|\n",
      "|          6|     0.0|   3.0|    Moran, Mr. James|  male|29.69911764705882|  0.0|  0.0|          330877| 8.4583| null|       Q|\n",
      "|          7|     0.0|   1.0|McCarthy, Mr. Tim...|  male|             54.0|  0.0|  0.0|           17463|51.8625|  E46|       S|\n",
      "|          8|     0.0|   3.0|Palsson, Master. ...|  male|              2.0|  3.0|  1.0|          349909| 21.075| null|       S|\n",
      "|          9|     1.0|   3.0|Johnson, Mrs. Osc...|female|             27.0|  0.0|  2.0|          347742|11.1333| null|       S|\n",
      "|         10|     1.0|   2.0|Nasser, Mrs. Nich...|female|             14.0|  1.0|  0.0|          237736|30.0708| null|       C|\n",
      "|         11|     1.0|   3.0|Sandstrom, Miss. ...|female|              4.0|  1.0|  1.0|         PP 9549|   16.7|   G6|       S|\n",
      "|         12|     1.0|   1.0|Bonnell, Miss. El...|female|             58.0|  0.0|  0.0|          113783|  26.55| C103|       S|\n",
      "|         13|     0.0|   3.0|Saundercock, Mr. ...|  male|             20.0|  0.0|  0.0|       A/5. 2151|   8.05| null|       S|\n",
      "|         14|     0.0|   3.0|Andersson, Mr. An...|  male|             39.0|  1.0|  5.0|          347082| 31.275| null|       S|\n",
      "|         15|     0.0|   3.0|Vestrom, Miss. Hu...|female|             14.0|  0.0|  0.0|          350406| 7.8542| null|       S|\n",
      "|         16|     1.0|   2.0|Hewlett, Mrs. (Ma...|female|             55.0|  0.0|  0.0|          248706|   16.0| null|       S|\n",
      "|         17|     0.0|   3.0|Rice, Master. Eugene|  male|              2.0|  4.0|  1.0|          382652| 29.125| null|       Q|\n",
      "|         18|     1.0|   2.0|Williams, Mr. Cha...|  male|29.69911764705882|  0.0|  0.0|          244373|   13.0| null|       S|\n",
      "|         19|     0.0|   3.0|Vander Planke, Mr...|female|             31.0|  1.0|  0.0|          345763|   18.0| null|       S|\n",
      "|         20|     1.0|   3.0|Masselmani, Mrs. ...|female|29.69911764705882|  0.0|  0.0|            2649|  7.225| null|       C|\n",
      "+-----------+--------+------+--------------------+------+-----------------+-----+-----+----------------+-------+-----+--------+\n",
      "only showing top 20 rows\n",
      "\n"
     ]
    }
   ],
   "source": [
    "from pyspark.sql.functions import isnan, when, count, col\n",
    "AllData.select([count(when(isnan(c) | col(c).isNull(), c)).alias(c) for c in AllData.columns]).show()\n",
    "\n",
    "#Replace the missing values in the Age column with the mean of the column\n",
    "age_mean = AllData.groupBy().mean('Age').first()[0]\n",
    "AllData = AllData.na.fill({'Age':age_mean})\n",
    "AllData.show()"
   ]
  },
  {
   "cell_type": "markdown",
   "metadata": {},
   "source": [
    "Split and Clean the Data"
   ]
  },
  {
   "cell_type": "code",
   "execution_count": 6,
   "metadata": {},
   "outputs": [
    {
     "name": "stdout",
     "output_type": "stream",
     "text": [
      "+-----------+--------+------+--------------------+------+-----------------+-----+-----+----------------+-------+-----+--------+--------------+-------------+--------------------+------+--------------------+--------------------+--------------------+------+--------------------+--------------------+\n",
      "|PassengerId|Survived|Pclass|                Name|   Sex|              Age|SibSp|Parch|          Ticket|   Fare|Cabin|Embarked|RoughFirstname|    Firstname|              Title1| Title|         Othernames1|          Othernames|              Alias0|Alias1|              AliasR|               Alias|\n",
      "+-----------+--------+------+--------------------+------+-----------------+-----+-----+----------------+-------+-----+--------+--------------+-------------+--------------------+------+--------------------+--------------------+--------------------+------+--------------------+--------------------+\n",
      "|          1|     0.0|   3.0|Braund, Mr. Owen ...|  male|             22.0|  1.0|  0.0|       A/5 21171|   7.25| null|       S|        Braund|       Braund|     Mr. Owen Harris|    Mr|         Owen Harris|         Owen Harris|                    |      |                    |                    |\n",
      "|          2|     1.0|   1.0|Cumings, Mrs. Joh...|female|             38.0|  1.0|  0.0|        PC 17599|71.2833|  C85|       C|       Cumings|      Cumings|Mrs. John Bradley...|   Mrs|John Bradley (Flo...|        John Bradley|Florence Briggs T...|      |Florence Briggs T...|Florence Briggs T...|\n",
      "|          3|     1.0|   3.0|Heikkinen, Miss. ...|female|             26.0|  0.0|  0.0|STON/O2. 3101282|  7.925| null|       S|     Heikkinen|    Heikkinen|         Miss. Laina|  Miss|               Laina|               Laina|                    |      |                    |                    |\n",
      "|          4|     1.0|   1.0|Futrelle, Mrs. Ja...|female|             35.0|  1.0|  0.0|          113803|   53.1| C123|       S|      Futrelle|     Futrelle|Mrs. Jacques Heat...|   Mrs|Jacques Heath (Li...|       Jacques Heath|       Lily May Peel|      |      Lily May Peel |      Lily May Peel |\n",
      "|          5|     0.0|   3.0|Allen, Mr. Willia...|  male|             35.0|  0.0|  0.0|          373450|   8.05| null|       S|         Allen|        Allen|   Mr. William Henry|    Mr|       William Henry|       William Henry|                    |      |                    |                    |\n",
      "|          6|     0.0|   3.0|    Moran, Mr. James|  male|29.69911764705882|  0.0|  0.0|          330877| 8.4583| null|       Q|         Moran|        Moran|           Mr. James|    Mr|               James|               James|                    |      |                    |                    |\n",
      "|          7|     0.0|   1.0|McCarthy, Mr. Tim...|  male|             54.0|  0.0|  0.0|           17463|51.8625|  E46|       S|      McCarthy|     McCarthy|       Mr. Timothy J|    Mr|           Timothy J|           Timothy J|                    |      |                    |                    |\n",
      "|          8|     0.0|   3.0|Palsson, Master. ...|  male|              2.0|  3.0|  1.0|          349909| 21.075| null|       S|       Palsson|      Palsson|Master. Gosta Leo...|Master|       Gosta Leonard|       Gosta Leonard|                    |      |                    |                    |\n",
      "|          9|     1.0|   3.0|Johnson, Mrs. Osc...|female|             27.0|  0.0|  2.0|          347742|11.1333| null|       S|       Johnson|      Johnson|Mrs. Oscar W (Eli...|   Mrs|Oscar W (Elisabet...|             Oscar W|Elisabeth Vilhelm...|      |Elisabeth Vilhelm...|Elisabeth Vilhelm...|\n",
      "|         10|     1.0|   2.0|Nasser, Mrs. Nich...|female|             14.0|  1.0|  0.0|          237736|30.0708| null|       C|        Nasser|       Nasser|Mrs. Nicholas (Ad...|   Mrs|Nicholas (Adele A...|            Nicholas|         Adele Achem|      |        Adele Achem |        Adele Achem |\n",
      "|         11|     1.0|   3.0|Sandstrom, Miss. ...|female|              4.0|  1.0|  1.0|         PP 9549|   16.7|   G6|       S|     Sandstrom|    Sandstrom|Miss. Marguerite Rut|  Miss|      Marguerite Rut|      Marguerite Rut|                    |      |                    |                    |\n",
      "|         12|     1.0|   1.0|Bonnell, Miss. El...|female|             58.0|  0.0|  0.0|          113783|  26.55| C103|       S|       Bonnell|      Bonnell|     Miss. Elizabeth|  Miss|           Elizabeth|           Elizabeth|                    |      |                    |                    |\n",
      "|         13|     0.0|   3.0|Saundercock, Mr. ...|  male|             20.0|  0.0|  0.0|       A/5. 2151|   8.05| null|       S|   Saundercock|  Saundercock|   Mr. William Henry|    Mr|       William Henry|       William Henry|                    |      |                    |                    |\n",
      "|         14|     0.0|   3.0|Andersson, Mr. An...|  male|             39.0|  1.0|  5.0|          347082| 31.275| null|       S|     Andersson|    Andersson|    Mr. Anders Johan|    Mr|        Anders Johan|        Anders Johan|                    |      |                    |                    |\n",
      "|         15|     0.0|   3.0|Vestrom, Miss. Hu...|female|             14.0|  0.0|  0.0|          350406| 7.8542| null|       S|       Vestrom|      Vestrom|Miss. Hulda Amand...|  Miss|Hulda Amanda Adol...|Hulda Amanda Adol...|                    |      |                    |                    |\n",
      "|         16|     1.0|   2.0|Hewlett, Mrs. (Ma...|female|             55.0|  0.0|  0.0|          248706|   16.0| null|       S|       Hewlett|      Hewlett|Mrs. (Mary D King...|   Mrs|   (Mary D Kingcome)|                    |     Mary D Kingcome|      |    Mary D Kingcome |    Mary D Kingcome |\n",
      "|         17|     0.0|   3.0|Rice, Master. Eugene|  male|              2.0|  4.0|  1.0|          382652| 29.125| null|       Q|          Rice|         Rice|      Master. Eugene|Master|              Eugene|              Eugene|                    |      |                    |                    |\n",
      "|         18|     1.0|   2.0|Williams, Mr. Cha...|  male|29.69911764705882|  0.0|  0.0|          244373|   13.0| null|       S|      Williams|     Williams|  Mr. Charles Eugene|    Mr|      Charles Eugene|      Charles Eugene|                    |      |                    |                    |\n",
      "|         19|     0.0|   3.0|Vander Planke, Mr...|female|             31.0|  1.0|  0.0|          345763|   18.0| null|       S| Vander Planke|Vander Planke|Mrs. Julius (Emel...|   Mrs|Julius (Emelia Ma...|              Julius|Emelia Maria Vand...|      |Emelia Maria Vand...|Emelia Maria Vand...|\n",
      "|         20|     1.0|   3.0|Masselmani, Mrs. ...|female|29.69911764705882|  0.0|  0.0|            2649|  7.225| null|       C|    Masselmani|   Masselmani|         Mrs. Fatima|   Mrs|              Fatima|              Fatima|                    |      |                    |                    |\n",
      "+-----------+--------+------+--------------------+------+-----------------+-----+-----+----------------+-------+-----+--------+--------------+-------------+--------------------+------+--------------------+--------------------+--------------------+------+--------------------+--------------------+\n",
      "only showing top 20 rows\n",
      "\n"
     ]
    }
   ],
   "source": [
    "import pyspark.sql.functions as f\n",
    "RoughFirstnameCol = udf(lambda name: name.split(',')[0].strip(),StringType())\n",
    "AllData = AllData.withColumn('RoughFirstname', RoughFirstnameCol(AllData['Name']))\n",
    "\n",
    "FirstnameCol = udf(lambda name: name.replace('\"',''),StringType())\n",
    "AllData = AllData.withColumn('Firstname', FirstnameCol(AllData['RoughFirstname']))\n",
    "\n",
    "\n",
    "\n",
    "TitleCol = udf(lambda name: name.split(',')[1].strip(),StringType())\n",
    "AllData = AllData.withColumn('Title1', TitleCol(AllData['Name']))\n",
    "\n",
    "TitleCol1 = udf(lambda name: name.split('.')[0].strip(),StringType())\n",
    "AllData = AllData.withColumn('Title', TitleCol1(AllData['Title1']))\n",
    " \n",
    "OthernameCol1 = udf(lambda name: name.split('.')[1].strip(),StringType())\n",
    "AllData = AllData.withColumn('Othernames1', OthernameCol1(AllData['Name']))\n",
    "\n",
    "OthernameCol = udf(lambda name: name.split(\"(\")[0].strip(),StringType())\n",
    "AllData = AllData.withColumn('Othernames', OthernameCol(AllData['Othernames1']))\n",
    "\n",
    "\n",
    "AllData = AllData.withColumn(\"Alias0\", f.regexp_extract(col(\"Othernames1\"), r\"\\(([^()]+)\\)$\", 1));\n",
    "AllData = AllData.withColumn(\"Alias1\", f.regexp_extract(col(\"Othernames1\"), r'\\\"([^()]+)\\\"$', 1));\n",
    "\n",
    "AllData = AllData.drop('AliasR')\n",
    "\n",
    "from pyspark.sql.functions import concat, lit, col\n",
    " \n",
    "AllData=AllData.select(\"*\", concat(col(\"Alias0\"),lit(\" \"),col(\"Alias1\")).alias(\"AliasR\"))\n",
    "\n",
    "AllData = AllData.withColumn(\"Alias\", f.regexp_replace(f.col(\"AliasR\"), '[\\()\"]', \"\").alias(\"Alias\"))\n",
    "AllData.show()"
   ]
  },
  {
   "cell_type": "markdown",
   "metadata": {},
   "source": [
    "Drop Unnecessary columns"
   ]
  },
  {
   "cell_type": "code",
   "execution_count": 7,
   "metadata": {},
   "outputs": [],
   "source": [
    "AllData = AllData.drop('Name', 'RoughFirstname','Title1',\n",
    "                       'Othernames1','Alias0', 'Alias1',\n",
    "                       'AliasR', 'PassengerId','Ticket',\n",
    "                      'Cabin','Firstname','Alias','Othernames')"
   ]
  },
  {
   "cell_type": "markdown",
   "metadata": {},
   "source": [
    "Convert Pyspark Dataframe to Pandas for Easy Analysis"
   ]
  },
  {
   "cell_type": "code",
   "execution_count": 8,
   "metadata": {},
   "outputs": [
    {
     "data": {
      "text/html": [
       "<div>\n",
       "<style scoped>\n",
       "    .dataframe tbody tr th:only-of-type {\n",
       "        vertical-align: middle;\n",
       "    }\n",
       "\n",
       "    .dataframe tbody tr th {\n",
       "        vertical-align: top;\n",
       "    }\n",
       "\n",
       "    .dataframe thead th {\n",
       "        text-align: right;\n",
       "    }\n",
       "</style>\n",
       "<table border=\"1\" class=\"dataframe\">\n",
       "  <thead>\n",
       "    <tr style=\"text-align: right;\">\n",
       "      <th></th>\n",
       "      <th>Survived</th>\n",
       "      <th>Pclass</th>\n",
       "      <th>Sex</th>\n",
       "      <th>Age</th>\n",
       "      <th>SibSp</th>\n",
       "      <th>Parch</th>\n",
       "      <th>Fare</th>\n",
       "      <th>Embarked</th>\n",
       "      <th>Title</th>\n",
       "    </tr>\n",
       "  </thead>\n",
       "  <tbody>\n",
       "    <tr>\n",
       "      <th>0</th>\n",
       "      <td>0.0</td>\n",
       "      <td>3.0</td>\n",
       "      <td>male</td>\n",
       "      <td>22.000000</td>\n",
       "      <td>1.0</td>\n",
       "      <td>0.0</td>\n",
       "      <td>7.2500</td>\n",
       "      <td>S</td>\n",
       "      <td>Mr</td>\n",
       "    </tr>\n",
       "    <tr>\n",
       "      <th>1</th>\n",
       "      <td>1.0</td>\n",
       "      <td>1.0</td>\n",
       "      <td>female</td>\n",
       "      <td>38.000000</td>\n",
       "      <td>1.0</td>\n",
       "      <td>0.0</td>\n",
       "      <td>71.2833</td>\n",
       "      <td>C</td>\n",
       "      <td>Mrs</td>\n",
       "    </tr>\n",
       "    <tr>\n",
       "      <th>2</th>\n",
       "      <td>1.0</td>\n",
       "      <td>3.0</td>\n",
       "      <td>female</td>\n",
       "      <td>26.000000</td>\n",
       "      <td>0.0</td>\n",
       "      <td>0.0</td>\n",
       "      <td>7.9250</td>\n",
       "      <td>S</td>\n",
       "      <td>Miss</td>\n",
       "    </tr>\n",
       "    <tr>\n",
       "      <th>3</th>\n",
       "      <td>1.0</td>\n",
       "      <td>1.0</td>\n",
       "      <td>female</td>\n",
       "      <td>35.000000</td>\n",
       "      <td>1.0</td>\n",
       "      <td>0.0</td>\n",
       "      <td>53.1000</td>\n",
       "      <td>S</td>\n",
       "      <td>Mrs</td>\n",
       "    </tr>\n",
       "    <tr>\n",
       "      <th>4</th>\n",
       "      <td>0.0</td>\n",
       "      <td>3.0</td>\n",
       "      <td>male</td>\n",
       "      <td>35.000000</td>\n",
       "      <td>0.0</td>\n",
       "      <td>0.0</td>\n",
       "      <td>8.0500</td>\n",
       "      <td>S</td>\n",
       "      <td>Mr</td>\n",
       "    </tr>\n",
       "    <tr>\n",
       "      <th>...</th>\n",
       "      <td>...</td>\n",
       "      <td>...</td>\n",
       "      <td>...</td>\n",
       "      <td>...</td>\n",
       "      <td>...</td>\n",
       "      <td>...</td>\n",
       "      <td>...</td>\n",
       "      <td>...</td>\n",
       "      <td>...</td>\n",
       "    </tr>\n",
       "    <tr>\n",
       "      <th>886</th>\n",
       "      <td>0.0</td>\n",
       "      <td>2.0</td>\n",
       "      <td>male</td>\n",
       "      <td>27.000000</td>\n",
       "      <td>0.0</td>\n",
       "      <td>0.0</td>\n",
       "      <td>13.0000</td>\n",
       "      <td>S</td>\n",
       "      <td>Rev</td>\n",
       "    </tr>\n",
       "    <tr>\n",
       "      <th>887</th>\n",
       "      <td>1.0</td>\n",
       "      <td>1.0</td>\n",
       "      <td>female</td>\n",
       "      <td>19.000000</td>\n",
       "      <td>0.0</td>\n",
       "      <td>0.0</td>\n",
       "      <td>30.0000</td>\n",
       "      <td>S</td>\n",
       "      <td>Miss</td>\n",
       "    </tr>\n",
       "    <tr>\n",
       "      <th>888</th>\n",
       "      <td>0.0</td>\n",
       "      <td>3.0</td>\n",
       "      <td>female</td>\n",
       "      <td>29.699118</td>\n",
       "      <td>1.0</td>\n",
       "      <td>2.0</td>\n",
       "      <td>23.4500</td>\n",
       "      <td>S</td>\n",
       "      <td>Miss</td>\n",
       "    </tr>\n",
       "    <tr>\n",
       "      <th>889</th>\n",
       "      <td>1.0</td>\n",
       "      <td>1.0</td>\n",
       "      <td>male</td>\n",
       "      <td>26.000000</td>\n",
       "      <td>0.0</td>\n",
       "      <td>0.0</td>\n",
       "      <td>30.0000</td>\n",
       "      <td>C</td>\n",
       "      <td>Mr</td>\n",
       "    </tr>\n",
       "    <tr>\n",
       "      <th>890</th>\n",
       "      <td>0.0</td>\n",
       "      <td>3.0</td>\n",
       "      <td>male</td>\n",
       "      <td>32.000000</td>\n",
       "      <td>0.0</td>\n",
       "      <td>0.0</td>\n",
       "      <td>7.7500</td>\n",
       "      <td>Q</td>\n",
       "      <td>Mr</td>\n",
       "    </tr>\n",
       "  </tbody>\n",
       "</table>\n",
       "<p>891 rows × 9 columns</p>\n",
       "</div>"
      ],
      "text/plain": [
       "     Survived  Pclass     Sex        Age  SibSp  Parch     Fare Embarked Title\n",
       "0         0.0     3.0    male  22.000000    1.0    0.0   7.2500        S    Mr\n",
       "1         1.0     1.0  female  38.000000    1.0    0.0  71.2833        C   Mrs\n",
       "2         1.0     3.0  female  26.000000    0.0    0.0   7.9250        S  Miss\n",
       "3         1.0     1.0  female  35.000000    1.0    0.0  53.1000        S   Mrs\n",
       "4         0.0     3.0    male  35.000000    0.0    0.0   8.0500        S    Mr\n",
       "..        ...     ...     ...        ...    ...    ...      ...      ...   ...\n",
       "886       0.0     2.0    male  27.000000    0.0    0.0  13.0000        S   Rev\n",
       "887       1.0     1.0  female  19.000000    0.0    0.0  30.0000        S  Miss\n",
       "888       0.0     3.0  female  29.699118    1.0    2.0  23.4500        S  Miss\n",
       "889       1.0     1.0    male  26.000000    0.0    0.0  30.0000        C    Mr\n",
       "890       0.0     3.0    male  32.000000    0.0    0.0   7.7500        Q    Mr\n",
       "\n",
       "[891 rows x 9 columns]"
      ]
     },
     "execution_count": 8,
     "metadata": {},
     "output_type": "execute_result"
    }
   ],
   "source": [
    "AllData_pandas = AllData.toPandas()\n",
    "AllData_pandas"
   ]
  },
  {
   "cell_type": "markdown",
   "metadata": {},
   "source": [
    "The Ratio of Passengers That Survived to The Passengers That Died"
   ]
  },
  {
   "cell_type": "code",
   "execution_count": 9,
   "metadata": {},
   "outputs": [
    {
     "data": {
      "text/plain": [
       "Text(0.5, 1.0, 'Total Number of Passengers - Deaths and Survived on Titanic')"
      ]
     },
     "execution_count": 9,
     "metadata": {},
     "output_type": "execute_result"
    },
    {
     "data": {
      "image/png": "[encoded data removed]",
      "text/plain": [
       "<Figure size 432x288 with 1 Axes>"
      ]
     },
     "metadata": {},
     "output_type": "display_data"
    }
   ],
   "source": [
    "Passengers = AllData_pandas.groupby(\"Survived\").size()\n",
    "Passengers\n",
    "\n",
    "def make_autopct(values):\n",
    "    def my_autopct(pct):\n",
    "        total = sum(values)\n",
    "        val = int(round(pct*total/100.0))\n",
    "        return '{p:.2f}%  ({v:d})'.format(p=pct,v=val)\n",
    "    return my_autopct\n",
    "\n",
    "import matplotlib.pyplot as plt\n",
    "Passengers = AllData_pandas.groupby('Survived').size()\n",
    "\n",
    "colors = ['blue', 'red', 'green', 'lightcoral']\n",
    "plt.pie(Passengers, shadow = True, colors = colors, labels = ['Died', 'Survived'], autopct = make_autopct(Passengers))\n",
    "plt.title('Total Number of Passengers - Deaths and Survived on Titanic')"
   ]
  },
  {
   "cell_type": "markdown",
   "metadata": {},
   "source": [
    "Ratio of The Sex of Passengers That Survived to Passengers that Died"
   ]
  },
  {
   "cell_type": "code",
   "execution_count": 10,
   "metadata": {},
   "outputs": [
    {
     "data": {
      "text/plain": [
       "Text(0.5, 1.0, 'Total Number of Females and Males - Deaths and Survived on Titanic')"
      ]
     },
     "execution_count": 10,
     "metadata": {},
     "output_type": "execute_result"
    },
    {
     "data": {
      "image/png": "[encoded data removed]",
      "text/plain": [
       "<Figure size 432x288 with 1 Axes>"
      ]
     },
     "metadata": {},
     "output_type": "display_data"
    }
   ],
   "source": [
    "Sex = AllData_pandas.groupby(('Sex'))\n",
    "survived_male_female = AllData_pandas.groupby([\"Sex\",\"Survived\"]).size()\n",
    "\n",
    "# Plot pie chart for Total Number of Females and Males - Deaths and Survived\n",
    "Sex1 = AllData_pandas.groupby(['Survived', 'Sex']).size()\n",
    "colors = ['gold','lightskyblue','green','orange']\n",
    "plt.pie(Sex1, shadow = True, colors = colors, labels = ['Number of Female - Deaths', 'Number of Female - Survivors', 'Number of Male - Deaths', 'Number of Male - Survivors'], autopct = make_autopct(Sex1))\n",
    "plt.title('Total Number of Females and Males - Deaths and Survived on Titanic')"
   ]
  },
  {
   "cell_type": "markdown",
   "metadata": {},
   "source": [
    "Ratio of Passengers That survived to Passengers that Died Grouped by Passenger Class"
   ]
  },
  {
   "cell_type": "code",
   "execution_count": 11,
   "metadata": {},
   "outputs": [
    {
     "data": {
      "image/png": "[encoded data removed]",
      "text/plain": [
       "<Figure size 1080x576 with 1 Axes>"
      ]
     },
     "metadata": {
      "needs_background": "light"
     },
     "output_type": "display_data"
    }
   ],
   "source": [
    "class_survived = AllData_pandas.groupby([\"Pclass\",\"Survived\"]).size()\n",
    "class_survived\n",
    "\n",
    "objects = ('Pclass 1', 'Pclass 2', 'Pclass 3')\n",
    "bars = np.arange(len(objects))\n",
    "class_survived.unstack().plot(kind = \"bar\", figsize = (15,8))\n",
    "plt.xticks(bars, objects, rotation='horizontal')\n",
    "plt.ylabel(\"Number of Passengers\")\n",
    "plt.xlabel(\"Number of Passengers in Pclass\")\n",
    "plt.title(\"Number of Passengers Traveling in Class 1, 2, 3 - Deaths and Survivors\")\n",
    "plt.legend(['Died', 'Survived'])\n",
    "plt.show()"
   ]
  },
  {
   "cell_type": "markdown",
   "metadata": {},
   "source": [
    "Number of Passengers Grouped by Age"
   ]
  },
  {
   "cell_type": "code",
   "execution_count": 12,
   "metadata": {},
   "outputs": [
    {
     "data": {
      "image/png": "[encoded data removed]",
      "text/plain": [
       "<Figure size 1440x720 with 1 Axes>"
      ]
     },
     "metadata": {
      "needs_background": "light"
     },
     "output_type": "display_data"
    }
   ],
   "source": [
    "Age = AllData_pandas.groupby(\"Age\").size()\n",
    "Age\n",
    "\n",
    "Age.plot(kind = \"bar\", color = 'black', figsize = (20,10))\n",
    "plt.ylabel(\"Number of Passengers\")\n",
    "plt.xlabel(\"Age\")\n",
    "plt.title(\"Total Number of Passengers\")\n",
    "plt.show()"
   ]
  },
  {
   "cell_type": "markdown",
   "metadata": {},
   "source": [
    "Statistical Description of Passengers Age"
   ]
  },
  {
   "cell_type": "code",
   "execution_count": 21,
   "metadata": {},
   "outputs": [
    {
     "data": {
      "text/plain": [
       "count    891.000000\n",
       "mean      29.699118\n",
       "std       13.002015\n",
       "min        0.420000\n",
       "25%       22.000000\n",
       "50%       29.699118\n",
       "75%       35.000000\n",
       "max       80.000000\n",
       "Name: Age, dtype: float64"
      ]
     },
     "execution_count": 21,
     "metadata": {},
     "output_type": "execute_result"
    }
   ],
   "source": [
    "AllData_pandas[\"Age\"].describe()"
   ]
  },
  {
   "cell_type": "markdown",
   "metadata": {},
   "source": [
    "Number of Passengers Grouped by Number of Siblings/Spouse"
   ]
  },
  {
   "cell_type": "code",
   "execution_count": 14,
   "metadata": {},
   "outputs": [
    {
     "data": {
      "image/png": "[encoded data removed]",
      "text/plain": [
       "<Figure size 1080x576 with 1 Axes>"
      ]
     },
     "metadata": {
      "needs_background": "light"
     },
     "output_type": "display_data"
    }
   ],
   "source": [
    "sibsp = AllData_pandas.groupby(\"SibSp\").size()\n",
    "sibsp\n",
    "\n",
    "sibsp.plot(kind = \"bar\", figsize = (15,8), color = 'purple')\n",
    "plt.ylabel(\"Number of Passengers\")\n",
    "plt.xlabel(\"Number of Siblings/Spouse\")\n",
    "plt.title(\"Number of Passengers Traveling with their Sibling/Spouse\")\n",
    "plt.show()"
   ]
  },
  {
   "cell_type": "markdown",
   "metadata": {},
   "source": [
    "Number of Passengers Grouped by Those Traveling with Parents/Children"
   ]
  },
  {
   "cell_type": "code",
   "execution_count": 15,
   "metadata": {},
   "outputs": [
    {
     "data": {
      "image/png": "[encoded data removed]",
      "text/plain": [
       "<Figure size 1080x576 with 1 Axes>"
      ]
     },
     "metadata": {
      "needs_background": "light"
     },
     "output_type": "display_data"
    }
   ],
   "source": [
    "parch = AllData_pandas.groupby(\"Parch\").size()\n",
    "parch\n",
    "\n",
    "parch.plot(kind = \"bar\", figsize = (15,8), color = 'g')\n",
    "plt.ylabel(\"Number of Passengers\")\n",
    "plt.xlabel(\"Number of Parents/Children\")\n",
    "plt.title(\"Number of Passengers traveling with their Parents/Children\")\n",
    "plt.show()"
   ]
  },
  {
   "cell_type": "markdown",
   "metadata": {},
   "source": [
    "Number of Passengers Grouped by Passenger Class"
   ]
  },
  {
   "cell_type": "code",
   "execution_count": 16,
   "metadata": {},
   "outputs": [
    {
     "data": {
      "image/png": "[encoded data removed]",
      "text/plain": [
       "<Figure size 1080x576 with 1 Axes>"
      ]
     },
     "metadata": {
      "needs_background": "light"
     },
     "output_type": "display_data"
    }
   ],
   "source": [
    "pclass = AllData_pandas.groupby(\"Pclass\").size()\n",
    "pclass\n",
    "\n",
    "pclass.plot(kind = \"bar\", figsize = (15,8), color = 'indigo')\n",
    "plt.ylabel(\"Number of Passengers\")\n",
    "plt.xlabel(\"Pclass\")\n",
    "plt.title(\"Number of Passengers Traveling in Different Socio-Economic Classes\")\n",
    "plt.show()"
   ]
  },
  {
   "cell_type": "markdown",
   "metadata": {},
   "source": [
    "Establish The Pipeline"
   ]
  },
  {
   "cell_type": "code",
   "execution_count": 17,
   "metadata": {},
   "outputs": [
    {
     "name": "stdout",
     "output_type": "stream",
     "text": [
      "+--------+------+------+-----------------+-----+-----+-------+--------+------+-----------+-------------+-------------+--------------+--------------------+\n",
      "|Survived|Pclass|   Sex|              Age|SibSp|Parch|   Fare|Embarked| Title|Sex_indexed|Title_indexed|  Sex_encoded| Title_encoded|            features|\n",
      "+--------+------+------+-----------------+-----+-----+-------+--------+------+-----------+-------------+-------------+--------------+--------------------+\n",
      "|     0.0|   3.0|  male|             22.0|  1.0|  0.0|   7.25|       S|    Mr|        0.0|          0.0|(1,[0],[1.0])|(16,[0],[1.0])|(22,[0,1,2,4,5,6]...|\n",
      "|     1.0|   1.0|female|             38.0|  1.0|  0.0|71.2833|       C|   Mrs|        1.0|          2.0|    (1,[],[])|(16,[2],[1.0])|(22,[0,1,2,4,8],[...|\n",
      "|     1.0|   3.0|female|             26.0|  0.0|  0.0|  7.925|       S|  Miss|        1.0|          1.0|    (1,[],[])|(16,[1],[1.0])|(22,[0,1,4,7],[3....|\n",
      "|     1.0|   1.0|female|             35.0|  1.0|  0.0|   53.1|       S|   Mrs|        1.0|          2.0|    (1,[],[])|(16,[2],[1.0])|(22,[0,1,2,4,8],[...|\n",
      "|     0.0|   3.0|  male|             35.0|  0.0|  0.0|   8.05|       S|    Mr|        0.0|          0.0|(1,[0],[1.0])|(16,[0],[1.0])|(22,[0,1,4,5,6],[...|\n",
      "|     0.0|   3.0|  male|29.69911764705882|  0.0|  0.0| 8.4583|       Q|    Mr|        0.0|          0.0|(1,[0],[1.0])|(16,[0],[1.0])|(22,[0,1,4,5,6],[...|\n",
      "|     0.0|   1.0|  male|             54.0|  0.0|  0.0|51.8625|       S|    Mr|        0.0|          0.0|(1,[0],[1.0])|(16,[0],[1.0])|(22,[0,1,4,5,6],[...|\n",
      "|     0.0|   3.0|  male|              2.0|  3.0|  1.0| 21.075|       S|Master|        0.0|          3.0|(1,[0],[1.0])|(16,[3],[1.0])|(22,[0,1,2,3,4,5,...|\n",
      "|     1.0|   3.0|female|             27.0|  0.0|  2.0|11.1333|       S|   Mrs|        1.0|          2.0|    (1,[],[])|(16,[2],[1.0])|(22,[0,1,3,4,8],[...|\n",
      "|     1.0|   2.0|female|             14.0|  1.0|  0.0|30.0708|       C|   Mrs|        1.0|          2.0|    (1,[],[])|(16,[2],[1.0])|(22,[0,1,2,4,8],[...|\n",
      "|     1.0|   3.0|female|              4.0|  1.0|  1.0|   16.7|       S|  Miss|        1.0|          1.0|    (1,[],[])|(16,[1],[1.0])|(22,[0,1,2,3,4,7]...|\n",
      "|     1.0|   1.0|female|             58.0|  0.0|  0.0|  26.55|       S|  Miss|        1.0|          1.0|    (1,[],[])|(16,[1],[1.0])|(22,[0,1,4,7],[1....|\n",
      "|     0.0|   3.0|  male|             20.0|  0.0|  0.0|   8.05|       S|    Mr|        0.0|          0.0|(1,[0],[1.0])|(16,[0],[1.0])|(22,[0,1,4,5,6],[...|\n",
      "|     0.0|   3.0|  male|             39.0|  1.0|  5.0| 31.275|       S|    Mr|        0.0|          0.0|(1,[0],[1.0])|(16,[0],[1.0])|(22,[0,1,2,3,4,5,...|\n",
      "|     0.0|   3.0|female|             14.0|  0.0|  0.0| 7.8542|       S|  Miss|        1.0|          1.0|    (1,[],[])|(16,[1],[1.0])|(22,[0,1,4,7],[3....|\n",
      "|     1.0|   2.0|female|             55.0|  0.0|  0.0|   16.0|       S|   Mrs|        1.0|          2.0|    (1,[],[])|(16,[2],[1.0])|(22,[0,1,4,8],[2....|\n",
      "|     0.0|   3.0|  male|              2.0|  4.0|  1.0| 29.125|       Q|Master|        0.0|          3.0|(1,[0],[1.0])|(16,[3],[1.0])|(22,[0,1,2,3,4,5,...|\n",
      "|     1.0|   2.0|  male|29.69911764705882|  0.0|  0.0|   13.0|       S|    Mr|        0.0|          0.0|(1,[0],[1.0])|(16,[0],[1.0])|(22,[0,1,4,5,6],[...|\n",
      "|     0.0|   3.0|female|             31.0|  1.0|  0.0|   18.0|       S|   Mrs|        1.0|          2.0|    (1,[],[])|(16,[2],[1.0])|(22,[0,1,2,4,8],[...|\n",
      "|     1.0|   3.0|female|29.69911764705882|  0.0|  0.0|  7.225|       C|   Mrs|        1.0|          2.0|    (1,[],[])|(16,[2],[1.0])|(22,[0,1,4,8],[3....|\n",
      "+--------+------+------+-----------------+-----+-----+-------+--------+------+-----------+-------------+-------------+--------------+--------------------+\n",
      "only showing top 20 rows\n",
      "\n"
     ]
    }
   ],
   "source": [
    "#Convert the strings to numeric values\n",
    "Indexer = StringIndexer(inputCols = ['Sex','Title'], outputCols = ['Sex_indexed','Title_indexed'])\n",
    "\n",
    "#Convert to sparse vectors\n",
    "Encoder = OneHotEncoder(inputCols =['Sex_indexed','Title_indexed'], outputCols =['Sex_encoded','Title_encoded'])\n",
    "    \n",
    "#Vectorize the features\n",
    "vectorassembler = VectorAssembler(inputCols=[\"Pclass\",'Age','SibSp','Parch','Fare','Sex_encoded',\n",
    "                                            'Title_encoded'], outputCol='features')\n",
    "   \n",
    "\n",
    "pipeline = Pipeline(stages = [Indexer, Encoder, vectorassembler])\n",
    "AllData_transformed = pipeline.fit(AllData).transform(AllData)  \n",
    "AllData_transformed.show()\n"
   ]
  },
  {
   "cell_type": "markdown",
   "metadata": {},
   "source": [
    "Drop Unncessary Columns"
   ]
  },
  {
   "cell_type": "code",
   "execution_count": 18,
   "metadata": {},
   "outputs": [],
   "source": [
    "AllData_transformed = AllData_transformed.drop('Sex','Embarked','Title',\n",
    "                       'Sex_indexed', 'Title_indexed','Pclass',\n",
    "                                 'Age','SibSp','Parch','Fare','Sex_encoded',\n",
    "                                             'Title_encoded','features_normalized','Survived')"
   ]
  },
  {
   "cell_type": "code",
   "execution_count": 19,
   "metadata": {},
   "outputs": [
    {
     "name": "stdout",
     "output_type": "stream",
     "text": [
      "+--------------------+-----+\n",
      "|            features|label|\n",
      "+--------------------+-----+\n",
      "|(22,[0,1,2,4,5,6]...|  0.0|\n",
      "|(22,[0,1,2,4,8],[...|  1.0|\n",
      "|(22,[0,1,4,7],[3....|  1.0|\n",
      "|(22,[0,1,2,4,8],[...|  1.0|\n",
      "|(22,[0,1,4,5,6],[...|  0.0|\n",
      "|(22,[0,1,4,5,6],[...|  0.0|\n",
      "|(22,[0,1,4,5,6],[...|  0.0|\n",
      "|(22,[0,1,2,3,4,5,...|  0.0|\n",
      "|(22,[0,1,3,4,8],[...|  1.0|\n",
      "|(22,[0,1,2,4,8],[...|  1.0|\n",
      "|(22,[0,1,2,3,4,7]...|  1.0|\n",
      "|(22,[0,1,4,7],[1....|  1.0|\n",
      "|(22,[0,1,4,5,6],[...|  0.0|\n",
      "|(22,[0,1,2,3,4,5,...|  0.0|\n",
      "|(22,[0,1,4,7],[3....|  0.0|\n",
      "|(22,[0,1,4,8],[2....|  1.0|\n",
      "|(22,[0,1,2,3,4,5,...|  0.0|\n",
      "|(22,[0,1,4,5,6],[...|  1.0|\n",
      "|(22,[0,1,2,4,8],[...|  0.0|\n",
      "|(22,[0,1,4,8],[3....|  1.0|\n",
      "+--------------------+-----+\n",
      "only showing top 20 rows\n",
      "\n"
     ]
    }
   ],
   "source": [
    "AllData_transformed.show()"
   ]
  },
  {
   "cell_type": "markdown",
   "metadata": {},
   "source": [
    "Predictions of Machine Learning Models on the Train and Test Set"
   ]
  },
  {
   "cell_type": "code",
   "execution_count": 20,
   "metadata": {},
   "outputs": [
    {
     "name": "stdout",
     "output_type": "stream",
     "text": [
      "Performance on Train Data\n",
      "AUC ROC of RandomForest model on train data: 0.8822026885533829\n",
      "AUC ROC of LogisticRegression model on train data: 0.8721248353429955\n",
      "\n",
      "\n",
      "Performance on Test Data\n",
      "AUC ROC of RandomForest model on test data: 0.8735391260162606\n",
      "AUC ROC of LogisticRegression model on test data: 0.8976753048780489\n"
     ]
    }
   ],
   "source": [
    "splits = AllData_transformed.randomSplit([0.8, 0.2], seed=10)\n",
    "AllData_train = splits[0]\n",
    "AllData_test = splits[1] \n",
    "\n",
    "#Fit the models to the data\n",
    "rf = RandomForestClassifier(featuresCol= 'features', labelCol='label', numTrees = 100).fit(AllData_train)\n",
    " \n",
    "logReg= LogisticRegression(featuresCol= 'features', labelCol='label',maxIter = 100, regParam = 0.05).fit(AllData_train)\n",
    "\n",
    " \n",
    "#Define a function to predict and evaluate performance of the model on train data\n",
    "def trainModel(model, Dataset = AllData_train):\n",
    "    predictionstrain = model.transform(AllData_train)\n",
    "    evaluator = BinaryClassificationEvaluator(labelCol = 'label')\n",
    "    return evaluator.evaluate(predictionstrain)\n",
    "\n",
    "print ('Performance on Train Data')\n",
    "print ('AUC ROC of RandomForest model on train data: '+str(trainModel(rf)))\n",
    "print ('AUC ROC of LogisticRegression model on train data: '+str(trainModel(logReg)))\n",
    "\n",
    "print ('\\n')\n",
    "\n",
    "#Define a function to predict and evaluate performance of the model on test data\n",
    "def testModel(model, Dataset = AllData_test):\n",
    "    predictionstest = model.transform(AllData_test)\n",
    "    evaluator = BinaryClassificationEvaluator(labelCol = 'label')\n",
    "    return evaluator.evaluate(predictionstest)\n",
    " \n",
    "print ('Performance on Test Data')\n",
    "print ('AUC ROC of RandomForest model on test data: '+str(testModel(rf)))\n",
    "print ('AUC ROC of LogisticRegression model on test data: '+str(testModel(logReg)))\n"
   ]
  },
  {
   "cell_type": "code",
   "execution_count": 22,
   "metadata": {},
   "outputs": [
    {
     "name": "stdout",
     "output_type": "stream",
     "text": [
      "+----------+-----+\n",
      "|prediction|label|\n",
      "+----------+-----+\n",
      "|       0.0|  1.0|\n",
      "|       0.0|  0.0|\n",
      "|       0.0|  0.0|\n",
      "|       0.0|  0.0|\n",
      "|       0.0|  0.0|\n",
      "|       0.0|  0.0|\n",
      "|       0.0|  0.0|\n",
      "|       0.0|  0.0|\n",
      "|       1.0|  1.0|\n",
      "|       1.0|  1.0|\n",
      "+----------+-----+\n",
      "only showing top 10 rows\n",
      "\n",
      "              precision    recall  f1-score   support\n",
      "\n",
      "         0.0       0.86      0.90      0.88       123\n",
      "         1.0       0.79      0.72      0.75        64\n",
      "\n",
      "    accuracy                           0.84       187\n",
      "   macro avg       0.83      0.81      0.82       187\n",
      "weighted avg       0.84      0.84      0.84       187\n",
      "\n"
     ]
    },
    {
     "data": {
      "image/png": "[encoded data removed]",
      "text/plain": [
       "<Figure size 432x288 with 2 Axes>"
      ]
     },
     "metadata": {
      "needs_background": "light"
     },
     "output_type": "display_data"
    }
   ],
   "source": [
    "predictionstest = logReg.transform(AllData_test)\n",
    "predictionstest.select('prediction' ,'label').show(10)\n",
    "\n",
    "true = predictionstest.select(['label']).collect()\n",
    "predicted = predictionstest.select(['prediction']).collect()\n",
    "\n",
    "from sklearn.metrics import classification_report, confusion_matrix\n",
    "print(classification_report(true, predicted))\n",
    "\n",
    "# Plot Confusion Matrix for Logistic Regression Classification Algorithm\n",
    "confusion_matrix = confusion_matrix(true, predicted)\n",
    "label = [\"0\", \"1\"]\n",
    "sns.heatmap(confusion_matrix, annot = True, xticklabels = label, yticklabels = label)\n",
    "plt.xlabel(\"Prediction Logistic Regression Classification Algorithm\")\n",
    "plt.title(\"Confusion Matrix for Logistic Regression Classification Algorithm\")\n",
    "plt.show()"
   ]
  }
 ],
 "metadata": {
  "kernelspec": {
   "display_name": "Python 3",
   "language": "python",
   "name": "python3"
  },
  "language_info": {
   "codemirror_mode": {
    "name": "ipython",
    "version": 3
   },
   "file_extension": ".py",
   "mimetype": "text/x-python",
   "name": "python",
   "nbconvert_exporter": "python",
   "pygments_lexer": "ipython3",
   "version": "3.8.5"
  }
 },
 "nbformat": 4,
 "nbformat_minor": 4
}
